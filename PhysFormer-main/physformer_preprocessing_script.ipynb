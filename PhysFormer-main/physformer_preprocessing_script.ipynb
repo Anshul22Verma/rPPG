{
 "cells": [
  {
   "cell_type": "code",
   "execution_count": 32,
   "metadata": {},
   "outputs": [],
   "source": [
    "import os\n",
    "import cv2\n",
    "import csv\n",
    "import pandas as pd\n",
    "\n"
   ]
  },
  {
   "cell_type": "code",
   "execution_count": null,
   "metadata": {},
   "outputs": [],
   "source": []
  },
  {
   "cell_type": "code",
   "execution_count": 33,
   "metadata": {},
   "outputs": [],
   "source": [
    "# Function to extract frames from video and save them as images\n",
    "def extract_frames(video_path, output_dir, start_frame):\n",
    "    cap = cv2.VideoCapture(video_path)\n",
    "    frame_rate = cap.get(cv2.CAP_PROP_FPS)\n",
    "    total_frames = int(cap.get(cv2.CAP_PROP_FRAME_COUNT))\n",
    "    \n",
    "    # Create output directory if it doesn't exist\n",
    "    os.makedirs(output_dir, exist_ok=True)\n",
    "    \n",
    "    # Extract frames\n",
    "    for i in range(total_frames):\n",
    "        ret, frame = cap.read()\n",
    "        if not ret:\n",
    "            break\n",
    "        frame_path = os.path.join(output_dir, f\"{start_frame + i:05d}.jpg\")\n",
    "        cv2.imwrite(frame_path, frame)\n",
    "    \n",
    "    cap.release()\n",
    "    return frame_rate, total_frames"
   ]
  },
  {
   "cell_type": "code",
   "execution_count": 34,
   "metadata": {},
   "outputs": [],
   "source": [
    "# Function to calculate average heart rate from gt_HR.csv file\n",
    "def calculate_avg_heart_rate(gt_hr_path):\n",
    "    df = pd.read_csv(gt_hr_path)\n",
    "    avg_hr = round(df['HR'].mean(), 2)\n",
    "    return avg_hr"
   ]
  },
  {
   "cell_type": "code",
   "execution_count": 35,
   "metadata": {},
   "outputs": [],
   "source": [
    "# Main function\n",
    "def process_directory(root_dir):\n",
    "    total_csv_path = os.path.join(root_dir, 'total.csv')\n",
    "    with open(total_csv_path, 'w', newline='') as csvfile:\n",
    "        fieldnames = ['VideoPath', 'StartFrame', 'FrameRate', 'AvgHeartRate']\n",
    "        writer = csv.DictWriter(csvfile, fieldnames=fieldnames)\n",
    "        writer.writeheader()\n",
    "\n",
    "        # Variables to track total frames and start frame for each folder\n",
    "        total_frames = 0\n",
    "        start_frame = 0\n",
    "\n",
    "        # Iterate through directories\n",
    "        for root, dirs, files in os.walk(root_dir):\n",
    "            if len(files) > 0:  # Check if there are files in the current directory\n",
    "                unit_dir = root\n",
    "                video_path = None\n",
    "                wave_path = None\n",
    "                gt_hr_path = None\n",
    "                output_dir = None\n",
    "\n",
    "                # Find video, wave, and gt_HR files in the current directory\n",
    "                for file in files:\n",
    "                    if file.endswith('.avi'):\n",
    "                        video_path = os.path.join(unit_dir, file)\n",
    "                    elif file == 'wave.csv':\n",
    "                        wave_path = os.path.join(unit_dir, file)\n",
    "                    elif file == 'gt_HR.csv':\n",
    "                        gt_hr_path = os.path.join(unit_dir, file)\n",
    "\n",
    "                if video_path is not None:\n",
    "                    # Extract frames from video\n",
    "                    output_dir = os.path.join(unit_dir, 'frames')\n",
    "                    frame_rate, total_video_frames = extract_frames(video_path, output_dir, start_frame)\n",
    "                    local_video_path=os.path.relpath(os.path.join(unit_dir, file), root_dir)\n",
    "                   # Increment total frames and update start frame for the next video\n",
    "                    total_frames += total_video_frames\n",
    "                    avg_heart_rate=None\n",
    "                    if gt_hr_path is not None:\n",
    "                        # Calculate average heart rate\n",
    "                        avg_heart_rate = calculate_avg_heart_rate(gt_hr_path)\n",
    "                    # Record total frames, frame rate, and start frame number in total.csv\n",
    "                    writer.writerow({\n",
    "                        'VideoPath': local_video_path,\n",
    "                        'StartFrame': start_frame,\n",
    "                        'FrameRate': frame_rate,\n",
    "                        'AvgHeartRate': avg_heart_rate\n",
    "                    })\n",
    "                    start_frame += total_video_frames\n",
    "\n",
    "\n",
    "        # Write the total number of frames for all videos\n",
    "        #writer.writerow({'TotalFrames': total_frames})"
   ]
  },
  {
   "cell_type": "code",
   "execution_count": 30,
   "metadata": {},
   "outputs": [],
   "source": []
  },
  {
   "cell_type": "code",
   "execution_count": 36,
   "metadata": {
    "scrolled": false
   },
   "outputs": [],
   "source": [
    "# Example usage\n",
    "root_directory = 'C:/Users/16475/PhysFormer-main/PhysFormer-main/vipl_hr_partial/p0'\n",
    "process_directory(root_directory)\n"
   ]
  },
  {
   "cell_type": "code",
   "execution_count": null,
   "metadata": {},
   "outputs": [],
   "source": []
  }
 ],
 "metadata": {
  "kernelspec": {
   "display_name": "Python 3 (ipykernel)",
   "language": "python",
   "name": "python3"
  },
  "language_info": {
   "codemirror_mode": {
    "name": "ipython",
    "version": 3
   },
   "file_extension": ".py",
   "mimetype": "text/x-python",
   "name": "python",
   "nbconvert_exporter": "python",
   "pygments_lexer": "ipython3",
   "version": "3.9.7"
  }
 },
 "nbformat": 4,
 "nbformat_minor": 2
}
